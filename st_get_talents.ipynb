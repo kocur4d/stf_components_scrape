{
 "cells": [
  {
   "cell_type": "code",
   "execution_count": 9,
   "metadata": {
    "collapsed": true
   },
   "outputs": [],
   "source": [
    "import pandas as pd\n",
    "from bs4 import BeautifulSoup\n",
    "import requests"
   ]
  },
  {
   "cell_type": "code",
   "execution_count": 19,
   "metadata": {
    "collapsed": true
   },
   "outputs": [],
   "source": [
    "url = 'https://startraders.gamepedia.com/Talents'\n",
    "export_filename = 'talents.csv'"
   ]
  },
  {
   "cell_type": "markdown",
   "metadata": {},
   "source": [
    "# Get talents data"
   ]
  },
  {
   "cell_type": "code",
   "execution_count": 14,
   "metadata": {
    "collapsed": true
   },
   "outputs": [],
   "source": [
    "df = pd.read_html(url)\n",
    "df = df[0]"
   ]
  },
  {
   "cell_type": "code",
   "execution_count": 15,
   "metadata": {},
   "outputs": [],
   "source": [
    "df.columns = df.iloc[0]\n",
    "df = df.reindex(df.index.drop(0))\n",
    "df.rename(columns={'Icon':'Group'}, inplace=True)\n",
    "df['Group'] = df['Group'].str.lower()\n"
   ]
  },
  {
   "cell_type": "markdown",
   "metadata": {},
   "source": [
    "# Get icons url"
   ]
  },
  {
   "cell_type": "code",
   "execution_count": 17,
   "metadata": {
    "collapsed": true
   },
   "outputs": [],
   "source": [
    "headers = {'User-agent': 'Mozilla/5.0'}\n",
    "raw_html = requests.get(url, headers=headers)\n",
    "raw_data = raw_html.text\n",
    "soup_data = BeautifulSoup(raw_data, \"lxml\")\n",
    "\n",
    "td = soup_data.findAll('tr')[1:]"
   ]
  },
  {
   "cell_type": "markdown",
   "metadata": {},
   "source": [
    "# Merge and export"
   ]
  },
  {
   "cell_type": "code",
   "execution_count": 18,
   "metadata": {},
   "outputs": [
    {
     "data": {
      "text/html": [
       "<div>\n",
       "<style>\n",
       "    .dataframe thead tr:only-child th {\n",
       "        text-align: right;\n",
       "    }\n",
       "\n",
       "    .dataframe thead th {\n",
       "        text-align: left;\n",
       "    }\n",
       "\n",
       "    .dataframe tbody tr th {\n",
       "        vertical-align: top;\n",
       "    }\n",
       "</style>\n",
       "<table border=\"1\" class=\"dataframe\">\n",
       "  <thead>\n",
       "    <tr style=\"text-align: right;\">\n",
       "      <th></th>\n",
       "      <th>Group</th>\n",
       "      <th>Name</th>\n",
       "      <th>Job</th>\n",
       "      <th>Required Rank</th>\n",
       "      <th>Description</th>\n",
       "      <th>Cooldown</th>\n",
       "      <th>Icon</th>\n",
       "    </tr>\n",
       "  </thead>\n",
       "  <tbody>\n",
       "    <tr>\n",
       "      <th>1</th>\n",
       "      <td>edict</td>\n",
       "      <td>Abiding Death</td>\n",
       "      <td>Bounty Hunter</td>\n",
       "      <td>1</td>\n",
       "      <td>Price for death warrant Edict is discounted by...</td>\n",
       "      <td>3 weeks Cooldown</td>\n",
       "      <td>https://d1u5p3l4wpay3k.cloudfront.net/startrad...</td>\n",
       "    </tr>\n",
       "    <tr>\n",
       "      <th>2</th>\n",
       "      <td>NaN</td>\n",
       "      <td>Acrobatic Dive</td>\n",
       "      <td>Pirate</td>\n",
       "      <td>5</td>\n",
       "      <td>Buffs Ship with +25% Accuracy, +15 Range Chang...</td>\n",
       "      <td>3 weeks Cooldown</td>\n",
       "      <td>https://d1u5p3l4wpay3k.cloudfront.net/startrad...</td>\n",
       "    </tr>\n",
       "    <tr>\n",
       "      <th>3</th>\n",
       "      <td>NaN</td>\n",
       "      <td>Advancing Front</td>\n",
       "      <td>Pistoleer</td>\n",
       "      <td>8</td>\n",
       "      <td>In crew combat, Pistol Attack with +10% Ranged...</td>\n",
       "      <td>Costs Weapon's Initiative to use (No Valid Wea...</td>\n",
       "      <td>https://d1u5p3l4wpay3k.cloudfront.net/startrad...</td>\n",
       "    </tr>\n",
       "    <tr>\n",
       "      <th>4</th>\n",
       "      <td>NaN</td>\n",
       "      <td>Aggressive Advance</td>\n",
       "      <td>Exo-Scout</td>\n",
       "      <td>1</td>\n",
       "      <td>In crew combat, Rifle Attack, advances 1 slot....</td>\n",
       "      <td>Costs Weapon's Initiative to use (No Valid Wea...</td>\n",
       "      <td>https://d1u5p3l4wpay3k.cloudfront.net/startrad...</td>\n",
       "    </tr>\n",
       "    <tr>\n",
       "      <th>5</th>\n",
       "      <td>NaN</td>\n",
       "      <td>Aimed Focus</td>\n",
       "      <td>Pistoleer</td>\n",
       "      <td>1</td>\n",
       "      <td>In crew combat, Buff yourself with +25% Ranged...</td>\n",
       "      <td>Costs 6 Initiative to use</td>\n",
       "      <td>https://d1u5p3l4wpay3k.cloudfront.net/startrad...</td>\n",
       "    </tr>\n",
       "  </tbody>\n",
       "</table>\n",
       "</div>"
      ],
      "text/plain": [
       "0  Group                Name            Job Required Rank  \\\n",
       "1  edict       Abiding Death  Bounty Hunter             1   \n",
       "2    NaN      Acrobatic Dive         Pirate             5   \n",
       "3    NaN     Advancing Front      Pistoleer             8   \n",
       "4    NaN  Aggressive Advance      Exo-Scout             1   \n",
       "5    NaN         Aimed Focus      Pistoleer             1   \n",
       "\n",
       "0                                        Description  \\\n",
       "1  Price for death warrant Edict is discounted by...   \n",
       "2  Buffs Ship with +25% Accuracy, +15 Range Chang...   \n",
       "3  In crew combat, Pistol Attack with +10% Ranged...   \n",
       "4  In crew combat, Rifle Attack, advances 1 slot....   \n",
       "5  In crew combat, Buff yourself with +25% Ranged...   \n",
       "\n",
       "0                                           Cooldown  \\\n",
       "1                                   3 weeks Cooldown   \n",
       "2                                   3 weeks Cooldown   \n",
       "3  Costs Weapon's Initiative to use (No Valid Wea...   \n",
       "4  Costs Weapon's Initiative to use (No Valid Wea...   \n",
       "5                          Costs 6 Initiative to use   \n",
       "\n",
       "0                                               Icon  \n",
       "1  https://d1u5p3l4wpay3k.cloudfront.net/startrad...  \n",
       "2  https://d1u5p3l4wpay3k.cloudfront.net/startrad...  \n",
       "3  https://d1u5p3l4wpay3k.cloudfront.net/startrad...  \n",
       "4  https://d1u5p3l4wpay3k.cloudfront.net/startrad...  \n",
       "5  https://d1u5p3l4wpay3k.cloudfront.net/startrad...  "
      ]
     },
     "execution_count": 18,
     "metadata": {},
     "output_type": "execute_result"
    }
   ],
   "source": [
    "icon_series = pd.Series([row.find('img')['src'] for row in td], index=df.index)\n",
    "df['Icon'] = icon_series"
   ]
  },
  {
   "cell_type": "code",
   "execution_count": 20,
   "metadata": {
    "collapsed": true
   },
   "outputs": [],
   "source": [
    "df.to_csv('talents.csv', index=False)"
   ]
  },
  {
   "cell_type": "code",
   "execution_count": null,
   "metadata": {
    "collapsed": true
   },
   "outputs": [],
   "source": []
  }
 ],
 "metadata": {
  "kernelspec": {
   "display_name": "Python 3",
   "language": "python",
   "name": "python3"
  },
  "language_info": {
   "codemirror_mode": {
    "name": "ipython",
    "version": 3
   },
   "file_extension": ".py",
   "mimetype": "text/x-python",
   "name": "python",
   "nbconvert_exporter": "python",
   "pygments_lexer": "ipython3",
   "version": "3.6.3"
  }
 },
 "nbformat": 4,
 "nbformat_minor": 2
}
